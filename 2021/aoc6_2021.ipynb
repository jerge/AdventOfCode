{
  "nbformat": 4,
  "nbformat_minor": 0,
  "metadata": {
    "colab": {
      "name": "Untitled4.ipynb",
      "provenance": [],
      "authorship_tag": "ABX9TyOmohahwJe/bLsWatdth6dD",
      "include_colab_link": true
    },
    "kernelspec": {
      "name": "python3",
      "display_name": "Python 3"
    },
    "language_info": {
      "name": "python"
    }
  },
  "cells": [
    {
      "cell_type": "markdown",
      "metadata": {
        "id": "view-in-github",
        "colab_type": "text"
      },
      "source": [
        "<a href=\"https://colab.research.google.com/github/jerge/AdventOfCode/blob/master/2021/aoc6_2021.ipynb\" target=\"_parent\"><img src=\"https://colab.research.google.com/assets/colab-badge.svg\" alt=\"Open In Colab\"/></a>"
      ]
    },
    {
      "cell_type": "code",
      "metadata": {
        "id": "VJhMS7LAgkNK"
      },
      "source": [
        "tinp = '''3,4,3,1,2'''\n",
        "inp = '''5,1,1,1,3,5,1,1,1,1,5,3,1,1,3,1,1,1,4,1,1,1,1,1,2,4,3,4,1,5,3,4,1,1,5,1,2,1,1,2,1,1,2,1,1,4,2,3,2,1,4,1,1,4,2,1,4,5,5,1,1,1,1,1,2,1,1,1,2,1,5,5,1,1,4,4,5,1,1,1,3,1,5,1,2,1,5,1,4,1,3,2,4,2,1,1,4,1,1,1,1,4,1,1,1,1,1,3,5,4,1,1,3,1,1,1,2,1,1,1,1,5,1,1,1,4,1,4,1,1,1,1,1,2,1,1,5,1,2,1,1,2,1,1,2,4,1,1,5,1,3,4,1,2,4,1,1,1,1,1,4,1,1,4,2,2,1,5,1,4,1,1,5,1,1,5,5,1,1,1,1,1,5,2,1,3,3,1,1,1,3,2,4,5,1,2,1,5,1,4,1,5,1,1,1,1,1,1,4,3,1,1,3,3,1,4,5,1,1,4,1,4,3,4,1,1,1,2,2,1,2,5,1,1,3,5,2,1,1,1,1,1,1,1,4,4,1,5,4,1,1,1,1,1,2,1,2,1,5,1,1,3,1,1,1,1,1,1,1,1,1,1,2,1,3,1,5,3,3,1,1,2,4,4,1,1,2,1,1,3,1,1,1,1,2,3,4,1,1,2'''"
      ],
      "execution_count": 1,
      "outputs": []
    },
    {
      "cell_type": "code",
      "metadata": {
        "colab": {
          "base_uri": "https://localhost:8080/"
        },
        "id": "zuT65SOSgsbB",
        "outputId": "53ef15c8-6c76-4035-964e-17f5038b3427"
      },
      "source": [
        "ls = list(map(int,inp.split(\",\")))\n",
        "new = 0\n",
        "for i in range(1,81):\n",
        "  new = 0\n",
        "  for j,l in enumerate(ls):\n",
        "    ls[j] -= 1\n",
        "    if l == 0:\n",
        "      new += 1\n",
        "      ls[j] = 6\n",
        "  for j in range(new):\n",
        "    ls.append(8)\n",
        "print(len(ls))"
      ],
      "execution_count": 79,
      "outputs": [
        {
          "output_type": "stream",
          "name": "stdout",
          "text": [
            "380243\n"
          ]
        }
      ]
    },
    {
      "cell_type": "code",
      "metadata": {
        "colab": {
          "base_uri": "https://localhost:8080/"
        },
        "id": "Y7drTdWokWHb",
        "outputId": "d52cad4b-4d8d-45e8-955b-514499cf9244"
      },
      "source": [
        "import collections\n",
        "\n",
        "ls = list(map(int,inp.split(\",\")))\n",
        "\n",
        "numbers = collections.Counter(ls)\n",
        "for d in range(256):\n",
        "  # Create one child, 8, per 0 and reset the parent to 6\n",
        "  new_numbers = collections.Counter({8: numbers[0], 6: numbers[0]}) \n",
        "  new_numbers.update({k - 1: v for k, v in numbers.items() if k > 0})\n",
        "  numbers = new_numbers\n",
        "\n",
        "sum(numbers.values())"
      ],
      "execution_count": 80,
      "outputs": [
        {
          "output_type": "execute_result",
          "data": {
            "text/plain": [
              "1708791884591"
            ]
          },
          "metadata": {},
          "execution_count": 80
        }
      ]
    }
  ]
}