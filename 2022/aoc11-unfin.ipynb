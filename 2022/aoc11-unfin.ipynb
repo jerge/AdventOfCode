{
  "nbformat": 4,
  "nbformat_minor": 0,
  "metadata": {
    "colab": {
      "provenance": [],
      "authorship_tag": "ABX9TyO4TubydCmhn4Slo6m0B+3t",
      "include_colab_link": true
    },
    "kernelspec": {
      "name": "python3",
      "display_name": "Python 3"
    },
    "language_info": {
      "name": "python"
    }
  },
  "cells": [
    {
      "cell_type": "markdown",
      "metadata": {
        "id": "view-in-github",
        "colab_type": "text"
      },
      "source": [
        "<a href=\"https://colab.research.google.com/github/jerge/AdventOfCode/blob/master/2022/aoc11-unfin.ipynb\" target=\"_parent\"><img src=\"https://colab.research.google.com/assets/colab-badge.svg\" alt=\"Open In Colab\"/></a>"
      ]
    },
    {
      "cell_type": "code",
      "execution_count": 2,
      "metadata": {
        "id": "jAQgCFMbnlDo"
      },
      "outputs": [],
      "source": [
        "example = '''Monkey 0:\n",
        "  Starting items: 79, 98\n",
        "  Operation: new = old * 19\n",
        "  Test: divisible by 23\n",
        "    If true: throw to monkey 2\n",
        "    If false: throw to monkey 3\n",
        "\n",
        "Monkey 1:\n",
        "  Starting items: 54, 65, 75, 74\n",
        "  Operation: new = old + 6\n",
        "  Test: divisible by 19\n",
        "    If true: throw to monkey 2\n",
        "    If false: throw to monkey 0\n",
        "\n",
        "Monkey 2:\n",
        "  Starting items: 79, 60, 97\n",
        "  Operation: new = old * old\n",
        "  Test: divisible by 13\n",
        "    If true: throw to monkey 1\n",
        "    If false: throw to monkey 3\n",
        "\n",
        "Monkey 3:\n",
        "  Starting items: 74\n",
        "  Operation: new = old + 3\n",
        "  Test: divisible by 17\n",
        "    If true: throw to monkey 0\n",
        "    If false: throw to monkey 1'''\n",
        "data = '''Monkey 0:\n",
        "  Starting items: 84, 72, 58, 51\n",
        "  Operation: new = old * 3\n",
        "  Test: divisible by 13\n",
        "    If true: throw to monkey 1\n",
        "    If false: throw to monkey 7\n",
        "\n",
        "Monkey 1:\n",
        "  Starting items: 88, 58, 58\n",
        "  Operation: new = old + 8\n",
        "  Test: divisible by 2\n",
        "    If true: throw to monkey 7\n",
        "    If false: throw to monkey 5\n",
        "\n",
        "Monkey 2:\n",
        "  Starting items: 93, 82, 71, 77, 83, 53, 71, 89\n",
        "  Operation: new = old * old\n",
        "  Test: divisible by 7\n",
        "    If true: throw to monkey 3\n",
        "    If false: throw to monkey 4\n",
        "\n",
        "Monkey 3:\n",
        "  Starting items: 81, 68, 65, 81, 73, 77, 96\n",
        "  Operation: new = old + 2\n",
        "  Test: divisible by 17\n",
        "    If true: throw to monkey 4\n",
        "    If false: throw to monkey 6\n",
        "\n",
        "Monkey 4:\n",
        "  Starting items: 75, 80, 50, 73, 88\n",
        "  Operation: new = old + 3\n",
        "  Test: divisible by 5\n",
        "    If true: throw to monkey 6\n",
        "    If false: throw to monkey 0\n",
        "\n",
        "Monkey 5:\n",
        "  Starting items: 59, 72, 99, 87, 91, 81\n",
        "  Operation: new = old * 17\n",
        "  Test: divisible by 11\n",
        "    If true: throw to monkey 2\n",
        "    If false: throw to monkey 3\n",
        "\n",
        "Monkey 6:\n",
        "  Starting items: 86, 69\n",
        "  Operation: new = old + 6\n",
        "  Test: divisible by 3\n",
        "    # If true: throw to monkey 1\n",
        "    If false: throw to monkey 0\n",
        "\n",
        "Monkey 7:\n",
        "  Starting items: 91\n",
        "  Operation: new = old + 1\n",
        "  Test: divisible by 19\n",
        "    If true: throw to monkey 2\n",
        "    If false: throw to monkey 5'''"
      ]
    },
    {
      "cell_type": "code",
      "source": [
        "\n",
        "class Monkey:\n",
        "    items = []\n",
        "    operation = None\n",
        "    test = 0\n",
        "    truethrow  = -1\n",
        "    falsethrow  = -1\n",
        "    inspections = 0\n",
        "    def __init__(self,inp):\n",
        "        ss = inp.split(\"\\n\")\n",
        "        self.items = [int(item) for item in ss[1][len(\" Starting items: \"):].split(\", \")]\n",
        "        temp = ss[2][len(\"  Operation: new = old \"):]\n",
        "        ops = {\n",
        "            '+' : lambda x, y: x + y,\n",
        "            '-' : lambda x, y: x - y,\n",
        "            '*' : lambda x, y: x * y\n",
        "        }\n",
        "        op = temp[0]\n",
        "        operand = temp[1:]\n",
        "        if \"old\" in operand:\n",
        "            self.operation = lambda x : ops[op](x,x)\n",
        "        else:\n",
        "            operand = int(operand)\n",
        "            self.operation = lambda x : ops[op](x,operand)\n",
        "        self.test = int(ss[3][len(\"  Test: divisible by \"):])\n",
        "        self.truethrow = int(ss[4][len(\"    If true: throw to monkey \"):])\n",
        "        self.falsethrow = int(ss[5][len(\"    If false: throw to monkey \"):])\n",
        "    \n",
        "    def inc_inspections(self):\n",
        "        self.inspections += 1\n",
        "    "
      ],
      "metadata": {
        "id": "XXDUCA7ZnyIv"
      },
      "execution_count": 31,
      "outputs": []
    },
    {
      "cell_type": "code",
      "source": [
        "2080%13"
      ],
      "metadata": {
        "colab": {
          "base_uri": "https://localhost:8080/"
        },
        "id": "IzLMoxYKz0Fy",
        "outputId": "fcce8e1e-4db1-4a7c-9e11-6f5de564a632"
      },
      "execution_count": 48,
      "outputs": [
        {
          "output_type": "execute_result",
          "data": {
            "text/plain": [
              "0"
            ]
          },
          "metadata": {},
          "execution_count": 48
        }
      ]
    },
    {
      "cell_type": "code",
      "source": [
        "print(monkeys[2].test)"
      ],
      "metadata": {
        "colab": {
          "base_uri": "https://localhost:8080/"
        },
        "id": "yPXqeE8wzQOc",
        "outputId": "71159990-65aa-48ef-e5d2-05306d990ad7"
      },
      "execution_count": 46,
      "outputs": [
        {
          "output_type": "stream",
          "name": "stdout",
          "text": [
            "13\n"
          ]
        }
      ]
    },
    {
      "cell_type": "code",
      "source": [
        "monkeys = [Monkey(line) for line in example.split(\"\\n\\n\")]\n",
        "for i in range(20):\n",
        "    print(f\"--Round {i+1}--\")\n",
        "    for m in monkeys:\n",
        "        # print(m.items)\n",
        "        while m.items:\n",
        "            # Inspect\n",
        "            it = m.items.pop(0)\n",
        "            m.inc_inspections()\n",
        "            # Operation\n",
        "            it = m.operation(it)\n",
        "            \n",
        "            # //3\n",
        "            it = it // 3\n",
        "            # Test worry\n",
        "            # print(it % m.test)\n",
        "            worried = it % m.test == 0\n",
        "            # Throw\n",
        "            \n",
        "            if worried:\n",
        "                # print(f\"t {it} -> {m.truethrow}\")\n",
        "                monkeys[m.truethrow].items.append(it)\n",
        "            else:\n",
        "                # print(f\"f {it} -> {m.falsethrow}\")\n",
        "                monkeys[m.falsethrow].items.append(it)\n",
        "        # print(m.inspections)\n",
        "    # for m in monkeys:\n",
        "    #     print(m.items)\n",
        "insps = [m.inspections for m in monkeys]\n"
      ],
      "metadata": {
        "colab": {
          "base_uri": "https://localhost:8080/"
        },
        "id": "i_-t73A-wNB9",
        "outputId": "7e7605e5-0b5d-4666-95c4-31645915e199"
      },
      "execution_count": 51,
      "outputs": [
        {
          "output_type": "stream",
          "name": "stdout",
          "text": [
            "--Round 1--\n",
            "--Round 2--\n",
            "--Round 3--\n",
            "--Round 4--\n",
            "--Round 5--\n",
            "--Round 6--\n",
            "--Round 7--\n",
            "--Round 8--\n",
            "--Round 9--\n",
            "--Round 10--\n",
            "--Round 11--\n",
            "--Round 12--\n",
            "--Round 13--\n",
            "--Round 14--\n",
            "--Round 15--\n",
            "--Round 16--\n",
            "--Round 17--\n",
            "--Round 18--\n",
            "--Round 19--\n",
            "--Round 20--\n",
            "[101, 95, 7, 105]\n"
          ]
        }
      ]
    },
    {
      "cell_type": "code",
      "source": [],
      "metadata": {
        "colab": {
          "base_uri": "https://localhost:8080/"
        },
        "id": "0qKXUVB0qPa7",
        "outputId": "8b3bb6d0-1d41-4789-94a3-38bb16912855"
      },
      "execution_count": 19,
      "outputs": [
        {
          "output_type": "stream",
          "name": "stdout",
          "text": [
            "3\n"
          ]
        }
      ]
    }
  ]
}