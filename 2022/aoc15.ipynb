{
  "nbformat": 4,
  "nbformat_minor": 0,
  "metadata": {
    "colab": {
      "provenance": [],
      "authorship_tag": "ABX9TyPuemuaHLINHqgkjeCxSRZL",
      "include_colab_link": true
    },
    "kernelspec": {
      "name": "python3",
      "display_name": "Python 3"
    },
    "language_info": {
      "name": "python"
    }
  },
  "cells": [
    {
      "cell_type": "markdown",
      "metadata": {
        "id": "view-in-github",
        "colab_type": "text"
      },
      "source": [
        "<a href=\"https://colab.research.google.com/github/jerge/AdventOfCode/blob/master/2022/aoc15.ipynb\" target=\"_parent\"><img src=\"https://colab.research.google.com/assets/colab-badge.svg\" alt=\"Open In Colab\"/></a>"
      ]
    },
    {
      "cell_type": "code",
      "execution_count": 1,
      "metadata": {
        "id": "Zm8470c3LV4I"
      },
      "outputs": [],
      "source": [
        "data = '''Sensor at x=3729579, y=1453415: closest beacon is at x=4078883, y=2522671\n",
        "Sensor at x=3662668, y=2749205: closest beacon is at x=4078883, y=2522671\n",
        "Sensor at x=257356, y=175834: closest beacon is at x=1207332, y=429175\n",
        "Sensor at x=2502777, y=3970934: closest beacon is at x=3102959, y=3443573\n",
        "Sensor at x=24076, y=2510696: closest beacon is at x=274522, y=2000000\n",
        "Sensor at x=3163363, y=3448163: closest beacon is at x=3102959, y=3443573\n",
        "Sensor at x=1011369, y=447686: closest beacon is at x=1207332, y=429175\n",
        "Sensor at x=3954188, y=3117617: closest beacon is at x=4078883, y=2522671\n",
        "Sensor at x=3480746, y=3150039: closest beacon is at x=3301559, y=3383795\n",
        "Sensor at x=2999116, y=3137910: closest beacon is at x=3102959, y=3443573\n",
        "Sensor at x=3546198, y=462510: closest beacon is at x=3283798, y=-405749\n",
        "Sensor at x=650838, y=1255586: closest beacon is at x=274522, y=2000000\n",
        "Sensor at x=3231242, y=3342921: closest beacon is at x=3301559, y=3383795\n",
        "Sensor at x=1337998, y=31701: closest beacon is at x=1207332, y=429175\n",
        "Sensor at x=1184009, y=3259703: closest beacon is at x=2677313, y=2951659\n",
        "Sensor at x=212559, y=1737114: closest beacon is at x=274522, y=2000000\n",
        "Sensor at x=161020, y=2251470: closest beacon is at x=274522, y=2000000\n",
        "Sensor at x=3744187, y=3722432: closest beacon is at x=3301559, y=3383795\n",
        "Sensor at x=2318112, y=2254019: closest beacon is at x=2677313, y=2951659\n",
        "Sensor at x=2554810, y=56579: closest beacon is at x=3283798, y=-405749\n",
        "Sensor at x=1240184, y=897870: closest beacon is at x=1207332, y=429175\n",
        "Sensor at x=2971747, y=2662873: closest beacon is at x=2677313, y=2951659\n",
        "Sensor at x=3213584, y=3463821: closest beacon is at x=3102959, y=3443573\n",
        "Sensor at x=37652, y=3969055: closest beacon is at x=-615866, y=3091738\n",
        "Sensor at x=1804153, y=1170987: closest beacon is at x=1207332, y=429175'''\n",
        "example = '''Sensor at x=2, y=18: closest beacon is at x=-2, y=15\n",
        "Sensor at x=9, y=16: closest beacon is at x=10, y=16\n",
        "Sensor at x=13, y=2: closest beacon is at x=15, y=3\n",
        "Sensor at x=12, y=14: closest beacon is at x=10, y=16\n",
        "Sensor at x=10, y=20: closest beacon is at x=10, y=16\n",
        "Sensor at x=14, y=17: closest beacon is at x=10, y=16\n",
        "Sensor at x=8, y=7: closest beacon is at x=2, y=10\n",
        "Sensor at x=2, y=0: closest beacon is at x=2, y=10\n",
        "Sensor at x=0, y=11: closest beacon is at x=2, y=10\n",
        "Sensor at x=20, y=14: closest beacon is at x=25, y=17\n",
        "Sensor at x=17, y=20: closest beacon is at x=21, y=22\n",
        "Sensor at x=16, y=7: closest beacon is at x=15, y=3\n",
        "Sensor at x=14, y=3: closest beacon is at x=15, y=3\n",
        "Sensor at x=20, y=1: closest beacon is at x=15, y=3'''\n",
        "import re"
      ]
    },
    {
      "cell_type": "code",
      "source": [
        "y=2000000\n",
        "# y = 10\n",
        "xs = set()\n",
        "bs = set()\n",
        "for line in data.splitlines():\n",
        "    [s_line, b_line] = line.split(\":\")\n",
        "    r = re.match(\".*x=(-?\\d+).+y=(-?\\d+)\", s_line)\n",
        "    s_x, s_y = int(r.groups()[0]), int(r.groups()[1])\n",
        "    r = re.match(\".*x=(-?\\d+).+y=(-?\\d+)\", b_line)\n",
        "    b_x, b_y = int(r.groups()[0]), int(r.groups()[1])\n",
        "    \n",
        "    dist = abs(s_x-b_x) + abs(s_y-b_y)\n",
        "    \n",
        "    dy = abs(s_y - y)\n",
        "    if b_y == y:\n",
        "        bs.add(b_x)\n",
        "    for x in range(dist-dy+1):\n",
        "        xs.add(s_x + x)\n",
        "        xs.add(s_x - x)\n",
        "# print(xs)\n",
        "print(bs)\n",
        "print(len(xs-bs))\n"
      ],
      "metadata": {
        "colab": {
          "base_uri": "https://localhost:8080/"
        },
        "id": "qxnrdaYUL4e2",
        "outputId": "2260cae2-fe61-4c19-c51e-dd35911fe0e8"
      },
      "execution_count": 11,
      "outputs": [
        {
          "output_type": "stream",
          "name": "stdout",
          "text": [
            "{274522}\n",
            "4827924\n"
          ]
        }
      ]
    },
    {
      "cell_type": "code",
      "source": [
        "\n",
        "def merge(a, b):\n",
        "    if b.start <= a.stop <= b.stop:\n",
        "        return [range(min(a.start, b.start), b.stop)]\n",
        "    elif a.start <= b.stop <= a.stop:\n",
        "        return [range(min(a.start, b.start), a.stop)]\n",
        "    else:\n",
        "        return [a, b]\n",
        "\n",
        "def merge_all(ranges):\n",
        "    start = len(ranges)\n",
        "    merged = []\n",
        "    for r in ranges:\n",
        "        if len(merged) == 0:\n",
        "            merged = [r]\n",
        "        else:\n",
        "            last = merged[-1]\n",
        "            merged[-1:] = merge(r, last)\n",
        "\n",
        "    end = len(merged)\n",
        "    if start == end:\n",
        "        return merged\n",
        "    else:\n",
        "        return merge_all(merged)"
      ],
      "metadata": {
        "id": "2aH3y3AXvfif"
      },
      "execution_count": 2,
      "outputs": []
    },
    {
      "cell_type": "code",
      "source": [
        "minv = 0\n",
        "maxv = 4_000_000\n",
        "# maxv = 20\n",
        "s_xs = []\n",
        "s_ys = []\n",
        "dists = []\n",
        "for line in data.splitlines():\n",
        "    [s_line, b_line] = line.split(\":\")\n",
        "    r = re.match(\".*x=(-?\\d+).+y=(-?\\d+)\", s_line)\n",
        "    s_x, s_y = int(r.groups()[0]), int(r.groups()[1])\n",
        "    r = re.match(\".*x=(-?\\d+).+y=(-?\\d+)\", b_line)\n",
        "    b_x, b_y = int(r.groups()[0]), int(r.groups()[1])\n",
        "    dist = abs(s_x-b_x) + abs(s_y-b_y)\n",
        "\n",
        "    s_xs.append(s_x)\n",
        "    s_ys.append(s_y)\n",
        "    dists.append(dist)\n",
        "# setxy = set((x,y) for x in range(minv,maxv) for y in range(minv,maxv))\n",
        "# xys = []\n",
        "for y in range(minv,maxv):\n",
        "    ranges = []\n",
        "    for i in range(len(s_xs)):\n",
        "        s_x, s_y, dist = s_xs[i], s_ys[i], dists[i]\n",
        "        dy = abs(y - s_y)\n",
        "        if dy < dist:\n",
        "            diff = dist-dy\n",
        "            ranges.append(range(s_x - diff, s_x + diff + 1))\n",
        "    ranges = sorted(ranges, key=lambda x: x.stop)\n",
        "\n",
        "    merged = merge_all(ranges)\n",
        "    if (len(merged) != 1):\n",
        "        print(merged[1].stop * 4_000_000 + y)\n",
        "        break\n",
        "        # for dy in range(0,dist+1):  \n",
        "        #     dy = dy\n",
        "        #     x = dist - dy\n",
        "        #     setxy = setxy - set((x,y) for x in range(s_x - x,s_x + x + 1) for y in range(s_y - dy, s_y + dy + 1))\n",
        "        #     # xys.append((range(s_x-x,s_x+x + 1), range(s_y-dy, s_y + dy + 1)))\n",
        "\n",
        "#Merge all?\n",
        "# [(x,y, x*4000000+y) for x in range(minv,maxv) for y in range(minv,maxv) if check(x,y,xys)]"
      ],
      "metadata": {
        "colab": {
          "base_uri": "https://localhost:8080/"
        },
        "id": "CvvzRONkUCSj",
        "outputId": "7ed93c00-1150-48b7-fd0d-703625516a0a"
      },
      "execution_count": 5,
      "outputs": [
        {
          "output_type": "stream",
          "name": "stdout",
          "text": [
            "0\n",
            "12977110973564\n"
          ]
        }
      ]
    }
  ]
}